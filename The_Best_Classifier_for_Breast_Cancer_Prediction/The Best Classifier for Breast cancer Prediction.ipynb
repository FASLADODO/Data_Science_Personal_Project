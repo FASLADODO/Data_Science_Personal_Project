{
 "cells": [
  {
   "cell_type": "markdown",
   "metadata": {},
   "source": [
    "# The Best Classifier for Breast Cancer Prediction"
   ]
  },
  {
   "cell_type": "markdown",
   "metadata": {},
   "source": [
    "The purpose of this project is to find the best classifier in machine leatning to predict the severity of the breast cancer: whether the tumor is benign or malignant. The binary classifiers that will be used in this project are: Support Vector Machine (SVM), Naive Bayes, Decision Tree, and Logistic Regression.\n",
    "\n",
    "The data used in this project was taken from the Wisconsin Breast Cancer datasets, available at https://archive.ics.uci.edu/ml/datasets/Breast+Cancer+Wisconsin+%28Diagnostic%29. Overall, there are 569 examples of tumor with different size of radius, texture, concavity, smoothness, and compactness available."
   ]
  },
  {
   "cell_type": "markdown",
   "metadata": {},
   "source": [
    "Let's first load the dataset and all of the necessary libraries."
   ]
  },
  {
   "cell_type": "code",
   "execution_count": 153,
   "metadata": {},
   "outputs": [],
   "source": [
    "from sklearn.tree import DecisionTreeClassifier\n",
    "from sklearn import svm\n",
    "from sklearn.linear_model import LogisticRegression\n",
    "from sklearn.naive_bayes import GaussianNB\n",
    "from sklearn import metrics\n",
    "import warnings\n",
    "warnings.filterwarnings(\"ignore\")\n",
    "import matplotlib.pyplot as plt\n",
    "import pandas as pd\n",
    "import numpy as np"
   ]
  },
  {
   "cell_type": "code",
   "execution_count": 119,
   "metadata": {},
   "outputs": [],
   "source": [
    "np.random.seed(1)\n",
    "trainX = pd.read_csv('trainX.csv')\n",
    "trainY = pd.read_csv('trainY.csv', names = ['diagnosis'])\n",
    "testX = pd.read_csv('testX.csv')\n",
    "testY = pd.read_csv('testY.csv', names = ['diagnosis'])\n"
   ]
  },
  {
   "cell_type": "markdown",
   "metadata": {},
   "source": [
    "Here the training and test data are already splitted into the proportion of 70%-30%. Each feature of the data has been normalized as well using min-max approach. Hence, the data now is ready to be used for classification study.\n",
    "\n",
    "Let's take a look first at the size of the training data and test data."
   ]
  },
  {
   "cell_type": "code",
   "execution_count": 120,
   "metadata": {},
   "outputs": [
    {
     "name": "stdout",
     "output_type": "stream",
     "text": [
      "Shape of the training set: (398, 30)\n",
      "Shape of the test set: (171, 30)\n"
     ]
    }
   ],
   "source": [
    "print('Shape of the training set: '+str(trainX.shape))\n",
    "print('Shape of the test set: '+str(testX.shape))"
   ]
  },
  {
   "cell_type": "markdown",
   "metadata": {},
   "source": [
    "We can also see the first five rows of the training features."
   ]
  },
  {
   "cell_type": "code",
   "execution_count": 124,
   "metadata": {},
   "outputs": [
    {
     "data": {
      "text/html": [
       "<div>\n",
       "<style scoped>\n",
       "    .dataframe tbody tr th:only-of-type {\n",
       "        vertical-align: middle;\n",
       "    }\n",
       "\n",
       "    .dataframe tbody tr th {\n",
       "        vertical-align: top;\n",
       "    }\n",
       "\n",
       "    .dataframe thead th {\n",
       "        text-align: right;\n",
       "    }\n",
       "</style>\n",
       "<table border=\"1\" class=\"dataframe\">\n",
       "  <thead>\n",
       "    <tr style=\"text-align: right;\">\n",
       "      <th></th>\n",
       "      <th>radius_mean</th>\n",
       "      <th>texture_mean</th>\n",
       "      <th>perimeter_mean</th>\n",
       "      <th>area_mean</th>\n",
       "      <th>smoothness_mean</th>\n",
       "      <th>compactness_mean</th>\n",
       "      <th>concavity_mean</th>\n",
       "      <th>concave points_mean</th>\n",
       "      <th>symmetry_mean</th>\n",
       "      <th>fractal_dimension_mean</th>\n",
       "      <th>...</th>\n",
       "      <th>radius_worst</th>\n",
       "      <th>texture_worst</th>\n",
       "      <th>perimeter_worst</th>\n",
       "      <th>area_worst</th>\n",
       "      <th>smoothness_worst</th>\n",
       "      <th>compactness_worst</th>\n",
       "      <th>concavity_worst</th>\n",
       "      <th>concave points_worst</th>\n",
       "      <th>symmetry_worst</th>\n",
       "      <th>fractal_dimension_worst</th>\n",
       "    </tr>\n",
       "  </thead>\n",
       "  <tbody>\n",
       "    <tr>\n",
       "      <td>0</td>\n",
       "      <td>0.607175</td>\n",
       "      <td>0.420697</td>\n",
       "      <td>0.595743</td>\n",
       "      <td>0.473595</td>\n",
       "      <td>0.412386</td>\n",
       "      <td>0.255567</td>\n",
       "      <td>0.346532</td>\n",
       "      <td>0.472068</td>\n",
       "      <td>0.263636</td>\n",
       "      <td>0.084035</td>\n",
       "      <td>...</td>\n",
       "      <td>0.689790</td>\n",
       "      <td>0.502665</td>\n",
       "      <td>0.679267</td>\n",
       "      <td>0.543846</td>\n",
       "      <td>0.528495</td>\n",
       "      <td>0.279138</td>\n",
       "      <td>0.429073</td>\n",
       "      <td>0.820619</td>\n",
       "      <td>0.237138</td>\n",
       "      <td>0.138463</td>\n",
       "    </tr>\n",
       "    <tr>\n",
       "      <td>1</td>\n",
       "      <td>0.494060</td>\n",
       "      <td>0.536016</td>\n",
       "      <td>0.488632</td>\n",
       "      <td>0.341251</td>\n",
       "      <td>0.433059</td>\n",
       "      <td>0.292068</td>\n",
       "      <td>0.394096</td>\n",
       "      <td>0.327883</td>\n",
       "      <td>0.125253</td>\n",
       "      <td>0.183235</td>\n",
       "      <td>...</td>\n",
       "      <td>0.360726</td>\n",
       "      <td>0.427772</td>\n",
       "      <td>0.348573</td>\n",
       "      <td>0.205417</td>\n",
       "      <td>0.350855</td>\n",
       "      <td>0.147481</td>\n",
       "      <td>0.223882</td>\n",
       "      <td>0.377663</td>\n",
       "      <td>0.007491</td>\n",
       "      <td>0.086187</td>\n",
       "    </tr>\n",
       "    <tr>\n",
       "      <td>2</td>\n",
       "      <td>0.317052</td>\n",
       "      <td>0.223876</td>\n",
       "      <td>0.303849</td>\n",
       "      <td>0.183245</td>\n",
       "      <td>0.362372</td>\n",
       "      <td>0.163088</td>\n",
       "      <td>0.041050</td>\n",
       "      <td>0.093439</td>\n",
       "      <td>0.288384</td>\n",
       "      <td>0.244103</td>\n",
       "      <td>...</td>\n",
       "      <td>0.281750</td>\n",
       "      <td>0.218017</td>\n",
       "      <td>0.254943</td>\n",
       "      <td>0.144564</td>\n",
       "      <td>0.364723</td>\n",
       "      <td>0.125263</td>\n",
       "      <td>0.096326</td>\n",
       "      <td>0.299107</td>\n",
       "      <td>0.244628</td>\n",
       "      <td>0.149416</td>\n",
       "    </tr>\n",
       "    <tr>\n",
       "      <td>3</td>\n",
       "      <td>0.273984</td>\n",
       "      <td>0.395671</td>\n",
       "      <td>0.264184</td>\n",
       "      <td>0.154358</td>\n",
       "      <td>0.314706</td>\n",
       "      <td>0.143028</td>\n",
       "      <td>0.072915</td>\n",
       "      <td>0.142346</td>\n",
       "      <td>0.320202</td>\n",
       "      <td>0.271904</td>\n",
       "      <td>...</td>\n",
       "      <td>0.207044</td>\n",
       "      <td>0.305970</td>\n",
       "      <td>0.192390</td>\n",
       "      <td>0.096908</td>\n",
       "      <td>0.149970</td>\n",
       "      <td>0.060628</td>\n",
       "      <td>0.041422</td>\n",
       "      <td>0.164021</td>\n",
       "      <td>0.121033</td>\n",
       "      <td>0.089663</td>\n",
       "    </tr>\n",
       "    <tr>\n",
       "      <td>4</td>\n",
       "      <td>0.333617</td>\n",
       "      <td>0.390260</td>\n",
       "      <td>0.317877</td>\n",
       "      <td>0.195080</td>\n",
       "      <td>0.343685</td>\n",
       "      <td>0.153580</td>\n",
       "      <td>0.034255</td>\n",
       "      <td>0.094235</td>\n",
       "      <td>0.230808</td>\n",
       "      <td>0.176706</td>\n",
       "      <td>...</td>\n",
       "      <td>0.263252</td>\n",
       "      <td>0.486674</td>\n",
       "      <td>0.238358</td>\n",
       "      <td>0.130333</td>\n",
       "      <td>0.379912</td>\n",
       "      <td>0.120315</td>\n",
       "      <td>0.049768</td>\n",
       "      <td>0.273643</td>\n",
       "      <td>0.130298</td>\n",
       "      <td>0.138594</td>\n",
       "    </tr>\n",
       "  </tbody>\n",
       "</table>\n",
       "<p>5 rows × 30 columns</p>\n",
       "</div>"
      ],
      "text/plain": [
       "   radius_mean  texture_mean  perimeter_mean  area_mean  smoothness_mean  \\\n",
       "0     0.607175      0.420697        0.595743   0.473595         0.412386   \n",
       "1     0.494060      0.536016        0.488632   0.341251         0.433059   \n",
       "2     0.317052      0.223876        0.303849   0.183245         0.362372   \n",
       "3     0.273984      0.395671        0.264184   0.154358         0.314706   \n",
       "4     0.333617      0.390260        0.317877   0.195080         0.343685   \n",
       "\n",
       "   compactness_mean  concavity_mean  concave points_mean  symmetry_mean  \\\n",
       "0          0.255567        0.346532             0.472068       0.263636   \n",
       "1          0.292068        0.394096             0.327883       0.125253   \n",
       "2          0.163088        0.041050             0.093439       0.288384   \n",
       "3          0.143028        0.072915             0.142346       0.320202   \n",
       "4          0.153580        0.034255             0.094235       0.230808   \n",
       "\n",
       "   fractal_dimension_mean  ...  radius_worst  texture_worst  perimeter_worst  \\\n",
       "0                0.084035  ...      0.689790       0.502665         0.679267   \n",
       "1                0.183235  ...      0.360726       0.427772         0.348573   \n",
       "2                0.244103  ...      0.281750       0.218017         0.254943   \n",
       "3                0.271904  ...      0.207044       0.305970         0.192390   \n",
       "4                0.176706  ...      0.263252       0.486674         0.238358   \n",
       "\n",
       "   area_worst  smoothness_worst  compactness_worst  concavity_worst  \\\n",
       "0    0.543846          0.528495           0.279138         0.429073   \n",
       "1    0.205417          0.350855           0.147481         0.223882   \n",
       "2    0.144564          0.364723           0.125263         0.096326   \n",
       "3    0.096908          0.149970           0.060628         0.041422   \n",
       "4    0.130333          0.379912           0.120315         0.049768   \n",
       "\n",
       "   concave points_worst  symmetry_worst  fractal_dimension_worst  \n",
       "0              0.820619        0.237138                 0.138463  \n",
       "1              0.377663        0.007491                 0.086187  \n",
       "2              0.299107        0.244628                 0.149416  \n",
       "3              0.164021        0.121033                 0.089663  \n",
       "4              0.273643        0.130298                 0.138594  \n",
       "\n",
       "[5 rows x 30 columns]"
      ]
     },
     "execution_count": 124,
     "metadata": {},
     "output_type": "execute_result"
    }
   ],
   "source": [
    "trainX.head()"
   ]
  },
  {
   "cell_type": "markdown",
   "metadata": {},
   "source": [
    "And the first five rows of the training diagnosis result"
   ]
  },
  {
   "cell_type": "code",
   "execution_count": 125,
   "metadata": {},
   "outputs": [
    {
     "data": {
      "text/html": [
       "<div>\n",
       "<style scoped>\n",
       "    .dataframe tbody tr th:only-of-type {\n",
       "        vertical-align: middle;\n",
       "    }\n",
       "\n",
       "    .dataframe tbody tr th {\n",
       "        vertical-align: top;\n",
       "    }\n",
       "\n",
       "    .dataframe thead th {\n",
       "        text-align: right;\n",
       "    }\n",
       "</style>\n",
       "<table border=\"1\" class=\"dataframe\">\n",
       "  <thead>\n",
       "    <tr style=\"text-align: right;\">\n",
       "      <th></th>\n",
       "      <th>diagnosis</th>\n",
       "    </tr>\n",
       "  </thead>\n",
       "  <tbody>\n",
       "    <tr>\n",
       "      <td>0</td>\n",
       "      <td>1</td>\n",
       "    </tr>\n",
       "    <tr>\n",
       "      <td>1</td>\n",
       "      <td>1</td>\n",
       "    </tr>\n",
       "    <tr>\n",
       "      <td>2</td>\n",
       "      <td>0</td>\n",
       "    </tr>\n",
       "    <tr>\n",
       "      <td>3</td>\n",
       "      <td>0</td>\n",
       "    </tr>\n",
       "    <tr>\n",
       "      <td>4</td>\n",
       "      <td>0</td>\n",
       "    </tr>\n",
       "  </tbody>\n",
       "</table>\n",
       "</div>"
      ],
      "text/plain": [
       "   diagnosis\n",
       "0          1\n",
       "1          1\n",
       "2          0\n",
       "3          0\n",
       "4          0"
      ]
     },
     "execution_count": 125,
     "metadata": {},
     "output_type": "execute_result"
    }
   ],
   "source": [
    "trainY.head()"
   ]
  },
  {
   "cell_type": "markdown",
   "metadata": {},
   "source": [
    "As we can see above, all of the features have been normalized in advance to make sure that each of the feature carries the same weight during the classification study. \n",
    "\n",
    "For the diagnosis, which we want to predict, the 'benign' or 'malignant' has been transformed into factor 0 or 1 in advance. 0 represents that the tumor is benign and 1 represents that the tumor is malignant.\n",
    "\n",
    "Now, let's define the metrics for our classification problem."
   ]
  },
  {
   "cell_type": "markdown",
   "metadata": {},
   "source": [
    "## About the Metrics"
   ]
  },
  {
   "cell_type": "markdown",
   "metadata": {},
   "source": [
    "Since the classification that will be conducted is about the severity of the tumor: whether the tumor is benign ot malignant, then the accuracy metrics would not be the best metrics for this condition. The emphasize should be focused in supressing the amount of false negative in the algorithm because the cost of having miss-classified an actual positive will be huge. \n",
    "\n",
    "Just imagine where there is a patient that has a breast tumor and we make a decision that the tumor is benign when in fact it is malignant. This situation will endanger the patient life and thus, creating a machine learning algorithm that can supress the amount of false negative should be a priority.\n",
    "\n",
    "Because of this, instead of accuracy or Jaccard index, the metrics that will be used for this problem is F1-score, which is the 'average' of precision and recall."
   ]
  },
  {
   "cell_type": "markdown",
   "metadata": {},
   "source": [
    "## The Best Classifier"
   ]
  },
  {
   "cell_type": "markdown",
   "metadata": {},
   "source": [
    "Before we jump into the calculation of the F1-score of each classifier, let's first define the function to call each of these classifiers."
   ]
  },
  {
   "cell_type": "code",
   "execution_count": 126,
   "metadata": {},
   "outputs": [],
   "source": [
    "def TreeClassifier(xTrain, xVal, yTrain, yVal, depth):\n",
    "    \n",
    "    np.random.seed(1)\n",
    "    F1_Tree_train = []\n",
    "    F1_Tree_test = []\n",
    "    \n",
    "    for i in range(len(depth)):\n",
    "    \n",
    "        tree = DecisionTreeClassifier(criterion='entropy',max_depth=depth[i]).fit(xTrain,yTrain)\n",
    "    \n",
    "        yHat_Tree = tree.predict(xVal)\n",
    "        yHat_train = tree.predict(xTrain)\n",
    "    \n",
    "        F1_Tree_train.append(metrics.f1_score(yTrain, yHat_train, average='weighted'))    \n",
    "        F1_Tree_test.append(metrics.f1_score(yVal, yHat_Tree, average='weighted'))\n",
    "    \n",
    "    return F1_Tree_train, F1_Tree_test  "
   ]
  },
  {
   "cell_type": "code",
   "execution_count": 150,
   "metadata": {},
   "outputs": [],
   "source": [
    "def SVMClassifier(xTrain, xVal, yTrain, yVal, kernel):\n",
    "    \n",
    "    np.random.seed(1)\n",
    "    F1_SVM_train = []\n",
    "    F1_SVM_test = []\n",
    "    \n",
    "    for i in range(len(kernel)):\n",
    "        clf = svm.SVC(kernel=kernel[i])\n",
    "        clf.fit(xTrain, yTrain)\n",
    "    \n",
    "        yHat_SVM = clf.predict(xVal)\n",
    "        yHat_train = clf.predict(xTrain)\n",
    "    \n",
    "        F1_SVM_train.append(metrics.f1_score(yTrain, yHat_train, average='weighted'))\n",
    "        F1_SVM_test.append(metrics.f1_score(yVal, yHat_SVM, average='weighted'))\n",
    "    \n",
    "    return F1_SVM_train,F1_SVM_test"
   ]
  },
  {
   "cell_type": "code",
   "execution_count": 169,
   "metadata": {},
   "outputs": [],
   "source": [
    "def LogisticClassifier(xTrain, xVal, yTrain, yVal, C):\n",
    "    \n",
    "    np.random.seed(1)\n",
    "    \n",
    "    F1_Log_train = []\n",
    "    F1_Log_test = []\n",
    "    \n",
    "    for i in range(len(C)):\n",
    "        \n",
    "        LR_model = LogisticRegression(C=C[i]).fit(xTrain,yTrain)\n",
    "    \n",
    "    \n",
    "        yHat_Log = LR_model.predict(xVal)\n",
    "        yHat_train = LR_model.predict(xTrain)\n",
    "    \n",
    "        F1_Log_train.append(metrics.f1_score(yTrain, yHat_train, average='weighted'))\n",
    "        F1_Log_test.append(metrics.f1_score(yVal, yHat_Log, average='weighted'))\n",
    "    \n",
    "    return F1_Log_train, F1_Log_test"
   ]
  },
  {
   "cell_type": "code",
   "execution_count": 184,
   "metadata": {},
   "outputs": [],
   "source": [
    "def NBClassifier(xTrain, xVal, yTrain, yVal):\n",
    "    \n",
    "    np.random.seed(1)\n",
    "        \n",
    "    F1_NB_train = []\n",
    "    F1_NB_test = []\n",
    "    \n",
    "    clf = GaussianNB().fit(xTrain,yTrain)\n",
    "    \n",
    "    \n",
    "    yHat_Log = clf.predict(xVal)\n",
    "    yHat_train = clf.predict(xTrain)\n",
    "    \n",
    "    F1_NB_train.append(metrics.f1_score(yTrain, yHat_train, average='weighted'))\n",
    "    F1_NB_test.append(metrics.f1_score(yVal, yHat_Log, average='weighted'))\n",
    "    \n",
    "    return F1_NB_train, F1_NB_test"
   ]
  },
  {
   "cell_type": "markdown",
   "metadata": {},
   "source": [
    "So now we already define the function to calculate the F1 score for each classification algorithm. Now, let's find out the F1 score of the first classifier, which is Decision Tree."
   ]
  },
  {
   "cell_type": "markdown",
   "metadata": {},
   "source": [
    "## Decision Tree"
   ]
  },
  {
   "cell_type": "markdown",
   "metadata": {},
   "source": [
    "For decision tree, it is particularly interesting to see first in advance what is the optimum depth of the tree so that it gives us the best F1 score for this particular problem. So let's do that."
   ]
  },
  {
   "cell_type": "code",
   "execution_count": 146,
   "metadata": {},
   "outputs": [
    {
     "data": {
      "text/plain": [
       "[0.9203393310639216,\n",
       " 0.9169067874748704,\n",
       " 0.9625940882322993,\n",
       " 0.9724996446279873,\n",
       " 0.9924680390101078]"
      ]
     },
     "execution_count": 146,
     "metadata": {},
     "output_type": "execute_result"
    }
   ],
   "source": [
    "# Try to find the best depth of decision tree\n",
    "depth = np.linspace(1,10,num=10).astype(int)\n",
    "\n",
    "f1_Tree_train, f1_Tree_test = TreeClassifier(trainX, testX, trainY, testY, depth)\n",
    "f1_Tree_train[0:5]"
   ]
  },
  {
   "cell_type": "markdown",
   "metadata": {},
   "source": [
    "It seems like that at glance, the deeper the tree, the higher the F1-score for predicting the training data. However, we need to be careful with the problem overfitting and thus, try to find the F1-score that would work best for training data and test data. In order to do that, let's build a line plot."
   ]
  },
  {
   "cell_type": "code",
   "execution_count": 147,
   "metadata": {},
   "outputs": [
    {
     "data": {
      "text/plain": [
       "<matplotlib.legend.Legend at 0x1efe1351188>"
      ]
     },
     "execution_count": 147,
     "metadata": {},
     "output_type": "execute_result"
    },
    {
     "data": {
      "image/png": "[encoded data removed]",
      "text/plain": [
       "<Figure size 864x576 with 1 Axes>"
      ]
     },
     "metadata": {
      "needs_background": "light"
     },
     "output_type": "display_data"
    }
   ],
   "source": [
    "plt.figure(figsize=(12,8))\n",
    "plt.plot(depth,f1_Tree_train,depth,f1_Tree_test, '--')\n",
    "plt.xlabel('Tree depths')\n",
    "plt.ylabel('F1 score')\n",
    "plt.ylim(0,1.2)\n",
    "plt.legend(['F1 score training','F1 score test'])"
   ]
  },
  {
   "cell_type": "markdown",
   "metadata": {},
   "source": [
    "From teh graph above, it seems that the decision tree algorithm with the maximum depths allowed = 5 would produce a good training and test F1 score for this particular problem. As we can see above, the decision tree with depth above 5 will overfit the training data. So let's do this for the decision tree"
   ]
  },
  {
   "cell_type": "code",
   "execution_count": 143,
   "metadata": {},
   "outputs": [
    {
     "name": "stdout",
     "output_type": "stream",
     "text": [
      "F1 score for training set: 0.9924680390101078\n",
      "F1 score for test set: 0.9413743525003256\n"
     ]
    }
   ],
   "source": [
    "f1_Tree_train, f1_Tree_test = TreeClassifier(trainX, testX, trainY, testY, [5])\n",
    "\n",
    "print('F1 score for training set: '+str(f1_Tree_train[0]))\n",
    "print('F1 score for test set: '+str(f1_Tree_test[0]))"
   ]
  },
  {
   "cell_type": "markdown",
   "metadata": {},
   "source": [
    "As we can see above, the decision tree with the maximum allowable depth of 5 has the training F1-score of 99.24%. However, the test F1-score is just 94,3%. Let's see how another classifier perform."
   ]
  },
  {
   "cell_type": "markdown",
   "metadata": {},
   "source": [
    "## Support Vector Machines"
   ]
  },
  {
   "cell_type": "markdown",
   "metadata": {},
   "source": [
    "The next classifier that will be used is Support Vector Machine (SVM). In SVM, there are several types of kernel that we can choose and it is difficult to choose which kernel would work best for this particular problem. Hence, let's find out the performance of different SVM kernel for this problem."
   ]
  },
  {
   "cell_type": "code",
   "execution_count": 158,
   "metadata": {},
   "outputs": [
    {
     "data": {
      "text/plain": [
       "[0.9798009983472178,\n",
       " 0.5061540233546739,\n",
       " 0.9593014466133992,\n",
       " 0.9515228137328927]"
      ]
     },
     "execution_count": 158,
     "metadata": {},
     "output_type": "execute_result"
    }
   ],
   "source": [
    "kernel = ['linear','poly','rbf','sigmoid']\n",
    "\n",
    "f1_SVM_train, f1_SVM_test = SVMClassifier(trainX, testX, trainY, testY, kernel)\n",
    "\n",
    "f1_SVM_train"
   ]
  },
  {
   "cell_type": "markdown",
   "metadata": {},
   "source": [
    "From the first glance, it can be seen that the SVM with linear kernel perform much better than the other kernel. Now let's take a look at each kernel performance in the training and test set with simple bar chart."
   ]
  },
  {
   "cell_type": "code",
   "execution_count": 161,
   "metadata": {},
   "outputs": [
    {
     "data": {
      "image/png": "[encoded data removed]",
      "text/plain": [
       "<Figure size 720x432 with 1 Axes>"
      ]
     },
     "metadata": {
      "needs_background": "light"
     },
     "output_type": "display_data"
    }
   ],
   "source": [
    "round_F1_train = np.around(f1_SVM_train, 3)\n",
    "round_F1_test = np.around(f1_SVM_test,3)\n",
    "\n",
    "\n",
    "numOfKernel = np.arange(len(kernel))\n",
    "width = 0.27\n",
    "\n",
    "fig = plt.figure(figsize=(10,6))\n",
    "ax = fig.add_axes([0,0,1,1])\n",
    "bar1 = ax.bar(numOfKernel - 0.5*width, round_F1_train, width, label='Training', color='#5bc0de')\n",
    "bar2 = ax.bar(numOfKernel + 0.5*width, round_F1_test, width, label='Test',color='#d9534f')\n",
    "ax.set_title('F1 score comparison between different kernels in SVM',fontsize=14)\n",
    "ax.set_xticks(numOfKernel)\n",
    "ax.set_xticklabels(kernel,fontsize=10)\n",
    "ax.legend(fontsize=10)\n",
    "\n",
    "def autolabel(rects):\n",
    "  \n",
    "    for rect in rects:\n",
    "        height = rect.get_height()\n",
    "        ax.annotate('{}'.format(height),\n",
    "                    xy=(rect.get_x() + rect.get_width() / 2, height),\n",
    "                    xytext=(0, 3),  \n",
    "                    textcoords=\"offset points\",\n",
    "                    fontsize=8,\n",
    "                    ha='center', va='bottom')\n",
    "\n",
    "autolabel(bar1)\n",
    "autolabel(bar2)"
   ]
  },
  {
   "cell_type": "markdown",
   "metadata": {},
   "source": [
    "From the graphs above, it can be clearly seen that the SVM with linear kernel outperforms the other kernels for thsi problem in both training and test set. We can also see that the polynomial kernel performs poorly for this problem. Thus, let's build SVM model once more with linear kernel."
   ]
  },
  {
   "cell_type": "code",
   "execution_count": 162,
   "metadata": {},
   "outputs": [
    {
     "name": "stdout",
     "output_type": "stream",
     "text": [
      "F1 score for training set: 0.9798009983472178\n",
      "F1 score for test set: 0.9646160856687174\n"
     ]
    }
   ],
   "source": [
    "f1_SVM_train, f1_SVM_test = SVMClassifier(trainX, testX, trainY, testY, ['linear'])\n",
    "\n",
    "print('F1 score for training set: '+str(f1_SVM_train[0]))\n",
    "print('F1 score for test set: '+str(f1_SVM_test[0]))"
   ]
  },
  {
   "cell_type": "markdown",
   "metadata": {},
   "source": [
    "The F1 score of the training set and the test set is indeed the same with what we have seen in the graph, where the F1 score for training set is 98% and test set is about 96,5%. We can also see that the SVM with linear kernel outperforms decision tree in test set, which we mostly care about."
   ]
  },
  {
   "cell_type": "markdown",
   "metadata": {},
   "source": [
    "## Logistic Regression"
   ]
  },
  {
   "cell_type": "markdown",
   "metadata": {},
   "source": [
    "Next, let's see how the logistic performs in this problem. To start, let's consider that C in the logistic regression is 1, meaning thatthe regularization in the cost function is the default value."
   ]
  },
  {
   "cell_type": "code",
   "execution_count": 172,
   "metadata": {},
   "outputs": [
    {
     "name": "stdout",
     "output_type": "stream",
     "text": [
      "F1 score for training set: 0.9670282313679723\n",
      "F1 score for test set: 0.9526595880121203\n"
     ]
    }
   ],
   "source": [
    "f1_Log_train, f1_Log_test = LogisticClassifier(trainX, testX, trainY, testY, [1])\n",
    "\n",
    "print('F1 score for training set: '+str(f1_Log_train[0]))\n",
    "print('F1 score for test set: '+str(f1_Log_test[0]))"
   ]
  },
  {
   "cell_type": "markdown",
   "metadata": {},
   "source": [
    "As we can see above, the F1 score for the training set is about  96,7% and the test set is about 95,2% by using the default regularization parameter. Considering the performance of the other solver, we suspect that the performance in the training and test set can be improved. This can be done by adjusting the regularization parameter $C$ and see which value of $C$ gives the best prediction.\n",
    "\n",
    "Since we assume that the performance can be improved, hence we need to decrease the regularization parameter, which in sklearn library can be done by increasing the $C$ value, since $C$ value is inversely proportional to the regularization parameter."
   ]
  },
  {
   "cell_type": "code",
   "execution_count": 176,
   "metadata": {},
   "outputs": [
    {
     "data": {
      "text/plain": [
       "[0.9670282313679723,\n",
       " 0.9823104903551749,\n",
       " 0.9873864016555153,\n",
       " 0.989917576402031,\n",
       " 0.989917576402031,\n",
       " 0.989917576402031]"
      ]
     },
     "execution_count": 176,
     "metadata": {},
     "output_type": "execute_result"
    }
   ],
   "source": [
    "C = [1,10,50,100,200,400]\n",
    "f1_Log_train, f1_Log_test = LogisticClassifier(trainX, testX, trainY, testY, C)\n",
    "\n",
    "f1_Log_train"
   ]
  },
  {
   "cell_type": "markdown",
   "metadata": {},
   "source": [
    "At the first glance, it can be seen that after the regularization parameter is increased beyond 100, then the F1 score prediction of the logistic regression seems to converge. Let's see what will happen with the test set in the line plot. "
   ]
  },
  {
   "cell_type": "code",
   "execution_count": 174,
   "metadata": {},
   "outputs": [
    {
     "data": {
      "text/plain": [
       "<matplotlib.legend.Legend at 0x1efe1a99588>"
      ]
     },
     "execution_count": 174,
     "metadata": {},
     "output_type": "execute_result"
    },
    {
     "data": {
      "image/png": "[encoded data removed]",
      "text/plain": [
       "<Figure size 864x576 with 1 Axes>"
      ]
     },
     "metadata": {
      "needs_background": "light"
     },
     "output_type": "display_data"
    }
   ],
   "source": [
    "plt.figure(figsize=(12,8))\n",
    "plt.plot(C,f1_Log_train,C,f1_Log_test, '--')\n",
    "plt.xlabel('Regularization C')\n",
    "plt.ylabel('F1 score')\n",
    "plt.ylim(0,1.2)\n",
    "plt.legend(['F1 score training','F1 score test'])"
   ]
  },
  {
   "cell_type": "markdown",
   "metadata": {},
   "source": [
    "From the graph above, we can see that by applying regularization parameter $C$ = 10, then we get the best prediction for both training set and test set. Applying regularization parameter beyond 10 might be increasing the F1 score for the training set but the test set F1-score will gradually decreased."
   ]
  },
  {
   "cell_type": "code",
   "execution_count": 177,
   "metadata": {},
   "outputs": [
    {
     "name": "stdout",
     "output_type": "stream",
     "text": [
      "F1 score for training set: 0.9823104903551749\n",
      "F1 score for test set: 0.9705603722224222\n"
     ]
    }
   ],
   "source": [
    "f1_Log_train, f1_Log_test = LogisticClassifier(trainX, testX, trainY, testY, [10])\n",
    "\n",
    "print('F1 score for training set: '+str(f1_Log_train[0]))\n",
    "print('F1 score for test set: '+str(f1_Log_test[0]))"
   ]
  },
  {
   "cell_type": "markdown",
   "metadata": {},
   "source": [
    "Finally, for logistic regression we have F1 score in the training set about 98.2% and F1-score for the test set = 97%"
   ]
  },
  {
   "cell_type": "markdown",
   "metadata": {},
   "source": [
    "## Naive Bayes"
   ]
  },
  {
   "cell_type": "markdown",
   "metadata": {},
   "source": [
    "The last classifier that will be investigated is naive-bayes classifier. In this project, the naive Boyes model that will be used is Gaussian Naive Bayes, since not all of the features are boolean or discrete data. Hence, let's jump to the calculation to find out the performance of Gaussian naive bayes."
   ]
  },
  {
   "cell_type": "code",
   "execution_count": 186,
   "metadata": {},
   "outputs": [
    {
     "name": "stdout",
     "output_type": "stream",
     "text": [
      "F1 score for training set: 0.9471952408038752\n",
      "F1 score for test set: 0.9350208849427213\n"
     ]
    }
   ],
   "source": [
    "f1_NB_train, f1_NB_test = NBClassifier(trainX, testX, trainY, testY)\n",
    "\n",
    "print('F1 score for training set: '+str(f1_NB_train[0]))\n",
    "print('F1 score for test set: '+str(f1_NB_test[0]))"
   ]
  },
  {
   "cell_type": "markdown",
   "metadata": {},
   "source": [
    "As we can see above, the training F1 score prediction by using Naive Bayes is about 94.7%, while the test F1 score is about 93.5%"
   ]
  },
  {
   "cell_type": "markdown",
   "metadata": {},
   "source": [
    "## Summary"
   ]
  },
  {
   "cell_type": "markdown",
   "metadata": {},
   "source": [
    "four classifications machine learning algorithm in order to predict the severity of tumor: whether the tumor is benign or malignant, has been conducted. Below is the summary result of F1 score of different classifiers on training and test sets.\n",
    "\n",
    "| Algorithm          | Training | Test      |\n",
    "|--------------------|----------|-----------|\n",
    "| Decision tree      | 0.992    | 0.941     |\n",
    "| SVM                | 0.980    | 0.965     | \n",
    "| Logistic Regression| 0.982    | 0.970     |\n",
    "| Naive-Bayes        | 0.947    | 0.935     | \n",
    "\n",
    "From the table summary above, we can see that the decision tree fit the training test better, but suffers from overfitting which cause the test F1-score to be much lower than the training set. Meanwhile, logistic regression with the modification of regularization parameter performs better than the other classifier applied in this project.\n"
   ]
  },
  {
   "cell_type": "code",
   "execution_count": null,
   "metadata": {},
   "outputs": [],
   "source": []
  }
 ],
 "metadata": {
  "kernelspec": {
   "display_name": "Python 3",
   "language": "python",
   "name": "python3"
  },
  "language_info": {
   "codemirror_mode": {
    "name": "ipython",
    "version": 3
   },
   "file_extension": ".py",
   "mimetype": "text/x-python",
   "name": "python",
   "nbconvert_exporter": "python",
   "pygments_lexer": "ipython3",
   "version": "3.7.4"
  }
 },
 "nbformat": 4,
 "nbformat_minor": 4
}
