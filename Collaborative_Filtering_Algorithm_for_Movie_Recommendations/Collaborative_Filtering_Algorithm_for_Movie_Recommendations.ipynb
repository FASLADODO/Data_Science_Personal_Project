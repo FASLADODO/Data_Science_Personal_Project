{
 "cells": [
  {
   "cell_type": "markdown",
   "metadata": {},
   "source": [
    "# Machine Learning - Collaborative Filtering Algorithm for Movie Recommendations"
   ]
  },
  {
   "cell_type": "markdown",
   "metadata": {},
   "source": [
    "The objective of this mini project is to build a collaborative filtering algorithm that able to make a proper movie recommendation based on user's rating on particular movies.\n",
    "\n",
    "The data being used in this project was taken from MovieLens 100K Dataset, which contains a data of 1682 movies and their rating from 943 different users."
   ]
  },
  {
   "cell_type": "markdown",
   "metadata": {},
   "source": [
    "Before the implementation of collaborative filtering algorithm, it is necessary to do data wrangling first, in order to transform the data the way we want to observe it.\n",
    "\n",
    "First, let's import the necessary libraries."
   ]
  },
  {
   "cell_type": "code",
   "execution_count": 99,
   "metadata": {},
   "outputs": [],
   "source": [
    "import numpy as np\n",
    "import pandas as pd"
   ]
  },
  {
   "cell_type": "markdown",
   "metadata": {},
   "source": [
    "Then read the data into a dataframe. To have a better sense of what the data looks like and to check whether it has been read properly, then it is essential to check it with head() function."
   ]
  },
  {
   "cell_type": "code",
   "execution_count": 100,
   "metadata": {},
   "outputs": [
    {
     "data": {
      "text/html": [
       "<div>\n",
       "<style scoped>\n",
       "    .dataframe tbody tr th:only-of-type {\n",
       "        vertical-align: middle;\n",
       "    }\n",
       "\n",
       "    .dataframe tbody tr th {\n",
       "        vertical-align: top;\n",
       "    }\n",
       "\n",
       "    .dataframe thead th {\n",
       "        text-align: right;\n",
       "    }\n",
       "</style>\n",
       "<table border=\"1\" class=\"dataframe\">\n",
       "  <thead>\n",
       "    <tr style=\"text-align: right;\">\n",
       "      <th></th>\n",
       "      <th>UserID</th>\n",
       "      <th>ItemID</th>\n",
       "      <th>Rating</th>\n",
       "      <th>Timestamp</th>\n",
       "    </tr>\n",
       "  </thead>\n",
       "  <tbody>\n",
       "    <tr>\n",
       "      <td>0</td>\n",
       "      <td>196</td>\n",
       "      <td>242</td>\n",
       "      <td>3</td>\n",
       "      <td>881250949</td>\n",
       "    </tr>\n",
       "    <tr>\n",
       "      <td>1</td>\n",
       "      <td>186</td>\n",
       "      <td>302</td>\n",
       "      <td>3</td>\n",
       "      <td>891717742</td>\n",
       "    </tr>\n",
       "    <tr>\n",
       "      <td>2</td>\n",
       "      <td>22</td>\n",
       "      <td>377</td>\n",
       "      <td>1</td>\n",
       "      <td>878887116</td>\n",
       "    </tr>\n",
       "    <tr>\n",
       "      <td>3</td>\n",
       "      <td>244</td>\n",
       "      <td>51</td>\n",
       "      <td>2</td>\n",
       "      <td>880606923</td>\n",
       "    </tr>\n",
       "    <tr>\n",
       "      <td>4</td>\n",
       "      <td>166</td>\n",
       "      <td>346</td>\n",
       "      <td>1</td>\n",
       "      <td>886397596</td>\n",
       "    </tr>\n",
       "  </tbody>\n",
       "</table>\n",
       "</div>"
      ],
      "text/plain": [
       "   UserID  ItemID  Rating  Timestamp\n",
       "0     196     242       3  881250949\n",
       "1     186     302       3  891717742\n",
       "2      22     377       1  878887116\n",
       "3     244      51       2  880606923\n",
       "4     166     346       1  886397596"
      ]
     },
     "execution_count": 100,
     "metadata": {},
     "output_type": "execute_result"
    }
   ],
   "source": [
    "fullDataFrame = pd.read_csv('RawData.txt', delimiter=\"\\t\", names=[\"UserID\",\"ItemID\",\"Rating\",\"Timestamp\"])\n",
    "fullDataFrame.head()"
   ]
  },
  {
   "cell_type": "markdown",
   "metadata": {},
   "source": [
    "From the data above, we can see the userID, the ItemID or movieID, the rating, and the timestamp. Out of these four columns, we don't actually need the Timestamp column for the investigation, so it is necessary to remove the Timestamp column."
   ]
  },
  {
   "cell_type": "code",
   "execution_count": 101,
   "metadata": {},
   "outputs": [
    {
     "data": {
      "text/html": [
       "<div>\n",
       "<style scoped>\n",
       "    .dataframe tbody tr th:only-of-type {\n",
       "        vertical-align: middle;\n",
       "    }\n",
       "\n",
       "    .dataframe tbody tr th {\n",
       "        vertical-align: top;\n",
       "    }\n",
       "\n",
       "    .dataframe thead th {\n",
       "        text-align: right;\n",
       "    }\n",
       "</style>\n",
       "<table border=\"1\" class=\"dataframe\">\n",
       "  <thead>\n",
       "    <tr style=\"text-align: right;\">\n",
       "      <th></th>\n",
       "      <th>UserID</th>\n",
       "      <th>ItemID</th>\n",
       "      <th>Rating</th>\n",
       "    </tr>\n",
       "  </thead>\n",
       "  <tbody>\n",
       "    <tr>\n",
       "      <td>0</td>\n",
       "      <td>196</td>\n",
       "      <td>242</td>\n",
       "      <td>3</td>\n",
       "    </tr>\n",
       "    <tr>\n",
       "      <td>1</td>\n",
       "      <td>186</td>\n",
       "      <td>302</td>\n",
       "      <td>3</td>\n",
       "    </tr>\n",
       "    <tr>\n",
       "      <td>2</td>\n",
       "      <td>22</td>\n",
       "      <td>377</td>\n",
       "      <td>1</td>\n",
       "    </tr>\n",
       "    <tr>\n",
       "      <td>3</td>\n",
       "      <td>244</td>\n",
       "      <td>51</td>\n",
       "      <td>2</td>\n",
       "    </tr>\n",
       "    <tr>\n",
       "      <td>4</td>\n",
       "      <td>166</td>\n",
       "      <td>346</td>\n",
       "      <td>1</td>\n",
       "    </tr>\n",
       "  </tbody>\n",
       "</table>\n",
       "</div>"
      ],
      "text/plain": [
       "   UserID  ItemID  Rating\n",
       "0     196     242       3\n",
       "1     186     302       3\n",
       "2      22     377       1\n",
       "3     244      51       2\n",
       "4     166     346       1"
      ]
     },
     "execution_count": 101,
     "metadata": {},
     "output_type": "execute_result"
    }
   ],
   "source": [
    "dataFrame = fullDataFrame.drop(['Timestamp'], axis= 1)\n",
    "dataFrame.head()"
   ]
  },
  {
   "cell_type": "markdown",
   "metadata": {},
   "source": [
    "After that, we can fetch the total number of users as well as the movies."
   ]
  },
  {
   "cell_type": "code",
   "execution_count": 102,
   "metadata": {},
   "outputs": [],
   "source": [
    "totalUser = len(dataFrame.UserID.value_counts())\n",
    "totalMovie = len(dataFrame.ItemID.value_counts())"
   ]
  },
  {
   "cell_type": "markdown",
   "metadata": {},
   "source": [
    "We use the total number of users as well as total number of movies in order to build a matrix $Y$ which has a dimension of $m x n$, with $m$ being the total number of movies and $n$ the total number of users."
   ]
  },
  {
   "cell_type": "code",
   "execution_count": 103,
   "metadata": {},
   "outputs": [
    {
     "data": {
      "text/plain": [
       "array([[5., 4., 0., 0., 4.],\n",
       "       [3., 0., 0., 0., 3.],\n",
       "       [4., 0., 0., 0., 0.],\n",
       "       [3., 0., 0., 0., 0.],\n",
       "       [3., 0., 0., 0., 0.]])"
      ]
     },
     "execution_count": 103,
     "metadata": {},
     "output_type": "execute_result"
    }
   ],
   "source": [
    "dataArray = dataFrame.to_numpy()\n",
    "\n",
    "Y = np.zeros((totalMovie, totalUser))\n",
    "for i in range (len(dataArray)):\n",
    "        \n",
    "        # -1 because Python indexing starts from 0.\n",
    "        \n",
    "        Y[(dataArray[i,1]-1), (dataArray[i,0]-1)] = dataArray[i,2]\n",
    "Y[0:5,0:5]"
   ]
  },
  {
   "cell_type": "markdown",
   "metadata": {},
   "source": [
    "Here the 1682x943 $Y$ matrix has been built. The value 0 corresponds to the movie that the user hasn't rated yet. The rating system range between 1-5, with 1 being the lowest and 5 the highest.\n",
    "\n",
    "After that, it is necessary to build $R$ matrix with the same dimension as matrix $Y$ above. The matrix $R$ contains two values only, 1 if a user already rated a movie or 0 otherwise."
   ]
  },
  {
   "cell_type": "code",
   "execution_count": 104,
   "metadata": {},
   "outputs": [
    {
     "data": {
      "text/plain": [
       "array([[1., 1., 0., 0., 1.],\n",
       "       [1., 0., 0., 0., 1.],\n",
       "       [1., 0., 0., 0., 0.],\n",
       "       [1., 0., 0., 0., 0.],\n",
       "       [1., 0., 0., 0., 0.]])"
      ]
     },
     "execution_count": 104,
     "metadata": {},
     "output_type": "execute_result"
    }
   ],
   "source": [
    "# Initialize R matrix, which has a value of 1 if a user has rated a movie, or 0 otherwise.\n",
    "R = np.zeros((totalMovie, totalUser))\n",
    "\n",
    "for i in range (totalMovie):\n",
    "    for j in range (totalUser):\n",
    "\n",
    "        if Y[i,j] != 0:\n",
    "            R[i,j] = 1\n",
    "R[0:5,0:5]"
   ]
  },
  {
   "cell_type": "markdown",
   "metadata": {},
   "source": [
    "After that, let's import all the movie list provided by the dataset. In the dataset, there are 1682 movies in total. The movie list is provided by 'movie_ids.txt'."
   ]
  },
  {
   "cell_type": "code",
   "execution_count": 105,
   "metadata": {},
   "outputs": [
    {
     "data": {
      "text/plain": [
       "['Toy Story (1995)',\n",
       " 'GoldenEye (1995)',\n",
       " 'Four Rooms (1995)',\n",
       " 'Get Shorty (1995)',\n",
       " 'Copycat (1995)']"
      ]
     },
     "execution_count": 105,
     "metadata": {},
     "output_type": "execute_result"
    }
   ],
   "source": [
    "def loadMovieList(strings):\n",
    "    \n",
    "    with open (strings,'r') as data:\n",
    "        \n",
    "        readData = data.readlines()\n",
    "        \n",
    "    readData = [x.strip() for x in readData]\n",
    "    movieData = []\n",
    "    \n",
    "    for i in range (len(readData)):\n",
    "        \n",
    "        readData[i] = readData[i].split(' ',1)\n",
    "        movieData.append(readData[i][1])\n",
    "        \n",
    "    return movieData\n",
    "\n",
    "movieList = loadMovieList('movie_ids.txt')\n",
    "movieList[0:5]"
   ]
  },
  {
   "cell_type": "markdown",
   "metadata": {},
   "source": [
    "Now we have successfully import the movie list. As you can see above, Toy Story has the first index in the movie list, followed by 007's GoldenEye. \n",
    "\n",
    "Before the collaborative filtering algorithm can do us a favor, let's rate several movies that we've seen already. Let's say I like chick flicks, comedy, and drama kind of movies and I don't like action or crime movies, then I would rate the movies at the beginning like the following."
   ]
  },
  {
   "cell_type": "code",
   "execution_count": 106,
   "metadata": {},
   "outputs": [],
   "source": [
    "# Initialize my movie rating.\n",
    "\n",
    "myMovieRating = np.zeros((totalMovie,1))\n",
    "\n",
    "# Movie I like\n",
    "myMovieRating[169] = 5 #Cinema Paradiso\n",
    "myMovieRating[215] = 5 #When Harry Met Sally\n",
    "myMovieRating[245] = 4 #Chasing Amy\n",
    "myMovieRating[250] = 5 #Shall We Dance?\n",
    "myMovieRating[254] = 4 #My Best Friend's Wedding\n",
    "myMovieRating[353] = 4 #The Wedding Singer\n",
    "myMovieRating[87] = 5 #Sleepless in Seattle\n",
    "myMovieRating[93] = 5 #Home Alone\n",
    "\n",
    "# Movie I dislike\n",
    "myMovieRating[352] = 2 #Deep Rising\n",
    "myMovieRating[372] = 1 #Judge Dredd\n",
    "myMovieRating[478] = 2 #Vertigo\n",
    "myMovieRating[591] = 2 #True Crime\n",
    "myMovieRating[602] = 2 #Rear Window\n",
    "myMovieRating[690] = 1 #Dark City"
   ]
  },
  {
   "cell_type": "markdown",
   "metadata": {},
   "source": [
    "Then, print the rating and movie titles for validation."
   ]
  },
  {
   "cell_type": "code",
   "execution_count": 107,
   "metadata": {},
   "outputs": [
    {
     "name": "stdout",
     "output_type": "stream",
     "text": [
      "I rated Sleepless in Seattle (1993) 5  stars\n",
      "I rated Home Alone (1990) 5  stars\n",
      "I rated Cinema Paradiso (1988) 5  stars\n",
      "I rated When Harry Met Sally... (1989) 5  stars\n",
      "I rated Chasing Amy (1997) 4  stars\n",
      "I rated Shall We Dance? (1996) 5  stars\n",
      "I rated My Best Friend's Wedding (1997) 4  stars\n",
      "I rated Deep Rising (1998) 2  stars\n",
      "I rated Wedding Singer, The (1998) 4  stars\n",
      "I rated Judge Dredd (1995) 1  stars\n",
      "I rated Vertigo (1958) 2  stars\n",
      "I rated True Crime (1995) 2  stars\n",
      "I rated Rear Window (1954) 2  stars\n",
      "I rated Dark City (1998) 1  stars\n"
     ]
    }
   ],
   "source": [
    "for i in range (len(myMovieRating)):\n",
    "    \n",
    "    if myMovieRating[i] != 0:\n",
    "        print('I rated', movieList[i], int(myMovieRating[i]),' stars')"
   ]
  },
  {
   "cell_type": "markdown",
   "metadata": {},
   "source": [
    "After that, initialize another $R$ matrix based only the movie that I rated already."
   ]
  },
  {
   "cell_type": "code",
   "execution_count": 108,
   "metadata": {},
   "outputs": [],
   "source": [
    "myR = np.zeros((len(myMovieRating),1))\n",
    "for i in range (len(myMovieRating)):\n",
    "    \n",
    "    if myMovieRating[i] != 0:\n",
    "        myR[i] = 1\n",
    "\n",
    "Y = np.column_stack((myMovieRating,Y))\n",
    "R = np.column_stack((myR,R))"
   ]
  },
  {
   "cell_type": "markdown",
   "metadata": {},
   "source": [
    "Now let's get started to build a collaborative filtering algorithm! First, we need to initialize the number of features in each movie (like whether it is drama, crime, romance, SciFi, action, or so on), it can be as much as you want. For the purpose of this project, the number of features = 5 has been chosen.\n",
    "\n",
    "Then, we also introduce the parameter $X$, which is the feature of each movie. Since the number of features = 5, the $X$ will be a matrix with dimension (total number of movies x 5). We also introduce $\\theta$ parameter, which is the user preference in each movie (whether they like a movie with a more action and less drama, for example). Hence, $\\theta$ will be a matrix with dimension (total number of users x 5)\n",
    "\n",
    "To initialize $X$ and $\\theta$, it is better if we initialize them randomly."
   ]
  },
  {
   "cell_type": "code",
   "execution_count": 109,
   "metadata": {},
   "outputs": [],
   "source": [
    "def initializeWeight(outputVal, inputVal):\n",
    "    \n",
    "    epsilon = 2 #It can be adjusted according to your need\n",
    "    weight = np.zeros((outputVal, inputVal))\n",
    "    weight = np.random.rand(outputVal, inputVal) * 2*epsilon-epsilon\n",
    "    \n",
    "    return weight\n",
    "\n",
    "totalFeatures = 5\n",
    "\n",
    "X = initializeWeight(totalMovie, totalFeatures)\n",
    "\n",
    "# Theta +1 because I add my rating \n",
    "Theta = initializeWeight(totalUser+1, totalFeatures) "
   ]
  },
  {
   "cell_type": "markdown",
   "metadata": {},
   "source": [
    "Then, we set all of the necessary variables for collaborative filtering algorithm, like regularization parameter, the learning rate, and the number of iterations for gradient descent optimization."
   ]
  },
  {
   "cell_type": "code",
   "execution_count": 110,
   "metadata": {},
   "outputs": [],
   "source": [
    "# Set regularization parameter, learning rate, and number of iterations\n",
    "lambdaReg = 0\n",
    "alpha = 0.0001\n",
    "numIterations = 30000"
   ]
  },
  {
   "cell_type": "markdown",
   "metadata": {},
   "source": [
    "Next would be the complicated algorithm of collaborative filtering. The cost function for collaborative filtering algorithm is showed in the following equation. \n",
    "\n",
    "$$J(x^i),...,x^{(n_m)},\\theta^{(1)},...,\\theta^{(n_u)} = \\frac{1}{2} \\sum_{(i,j):r(i,j)=1} ((\\theta^{(j)})^T x^{(i)}-y^{(i,j)})^2+(\\frac{\\lambda}{2} \\sum_{j=1}^{n^u} \\sum_{k=1}^{n} (\\theta_k^{(j)})^2)+(\\frac{\\lambda}{2} \\sum_{i=1}^{n_m} \\sum_{k=1}^{n} (x_k^{(i)})^2)$$"
   ]
  },
  {
   "cell_type": "markdown",
   "metadata": {},
   "source": [
    "The cost function is described as the summation of $(\\theta*X-y)^2$ where the $R$ matrix = 1, which means that a user has rated the movie. The $\\lambda$ expression with double summations in the following term are used for regularization of parameters.\n",
    "\n",
    "Aside of the cost function $J$, we need to compute the gradient $\\theta$, which is the partial derivative of the cost function above with respect to $X$. We also need to compute gradient $X$ simultaneously, which is the partial derivative of the cost function above with respect to $\\theta$.\n",
    "\n",
    "\n",
    "$$ \\frac{\\partial J}{\\partial x_k^{(i)}} = \\sum_{j:r(i,j)=1} ((\\theta^{(j)})^T x^{(i)}-y^{(i,j)})\\theta_k^{(j)}+\\lambda x_k^{(i)}$$\n",
    "\n",
    "$$\\frac{\\partial J}{\\partial \\theta_k^{(j)}} = \\sum_{i:r(i,j)=1} ((\\theta^{(j)})^T x^{(i)}-y^{(i,j)})x_k^{(i)}+\\lambda x_k^{(j)}$$"
   ]
  },
  {
   "cell_type": "markdown",
   "metadata": {},
   "source": [
    "After we compute gradient $\\theta$ and $X$, then we can update the value of $\\theta$ and $X$ that we previously randomly initialized. Then repeat this process until $n$ number of iterations or until we reach the convergence in the cost function."
   ]
  },
  {
   "cell_type": "code",
   "execution_count": 111,
   "metadata": {},
   "outputs": [],
   "source": [
    "def computeCostFunctionCollaborationFiltering (X,Y,theta,lambdaReg, R):\n",
    "    \n",
    "    thetaGrad = np.zeros((np.shape(theta)))\n",
    "    XGrad = np.zeros((np.shape(X)))\n",
    "    \n",
    "    costTerm = ((np.matmul(X, theta.transpose()))-Y)**2\n",
    "    regularizedJ = (((lambdaReg/2))*(np.sum(np.sum(theta**2))))+((lambdaReg/2)*(np.sum(np.sum(X**2))))\n",
    "    finalJ = ((np.sum(np.sum(np.multiply(costTerm,R))))*0.5) + regularizedJ\n",
    "    \n",
    "    XTemp = (np.multiply(((np.matmul(X,theta.transpose()))-Y),R))\n",
    "    XGrad = (np.matmul(XTemp,theta))+(lambdaReg*X)\n",
    "    \n",
    "    thetaTemp = (np.multiply(((np.matmul(X, theta.transpose()))-Y),R))\n",
    "    thetaGrad = (np.matmul(thetaTemp.transpose(),X))+(lambdaReg*theta)\n",
    "    \n",
    "    return finalJ, XGrad, thetaGrad"
   ]
  },
  {
   "cell_type": "markdown",
   "metadata": {},
   "source": [
    "First, we define a function above to compute the cost function of collaborative filtering algorithm. Then we also define a function to compute gradient descent optimization to learn the best value for both $\\theta$ and $X$ parameters."
   ]
  },
  {
   "cell_type": "code",
   "execution_count": 112,
   "metadata": {},
   "outputs": [],
   "source": [
    "def computeGradientDescentCollaborationFiltering(x, y, theta, alpha, iterations, lambdaReg, R):\n",
    "    \n",
    "    JHistory = np.zeros((iterations,1))\n",
    "    \n",
    "    for i in range (iterations):\n",
    "        \n",
    "        JHistory[i], xGrad, thetaGrad = computeCostFunctionCollaborationFiltering(x, y, theta, lambdaReg, R)\n",
    "\n",
    "        x = x - (alpha*xGrad)\n",
    "        theta = theta - (alpha*thetaGrad)\n",
    "        \n",
    "    return JHistory, x, theta"
   ]
  },
  {
   "cell_type": "markdown",
   "metadata": {},
   "source": [
    "Then, we call the function computeGradientDescentCollaborationFiltering to run the collaborative filtering algorithm. As a return, we get the optimized cost function, as well as the optimized value for both $\\theta$ and $X$ parameters."
   ]
  },
  {
   "cell_type": "code",
   "execution_count": 113,
   "metadata": {},
   "outputs": [],
   "source": [
    "# Perform optimization process for collaboration filtering algorithm\n",
    "J, finX, finTheta = computeGradientDescentCollaborationFiltering \\\n",
    "(X, Y, Theta, alpha, numIterations, lambdaReg, R)"
   ]
  },
  {
   "cell_type": "markdown",
   "metadata": {},
   "source": [
    "Then, we can fetch what movies does the algorithm recommend by multiplying parameter $\\theta$ with $X$. Then, sort the result in descending order."
   ]
  },
  {
   "cell_type": "code",
   "execution_count": 114,
   "metadata": {},
   "outputs": [],
   "source": [
    "# Fetch my movie recommendation.\n",
    "moviePredictions = np.matmul(finX,finTheta.transpose())\n",
    "recommendationForMe = moviePredictions[:,0]\n",
    "\n",
    "indices = np.argsort(recommendationForMe)[::-1]"
   ]
  },
  {
   "cell_type": "markdown",
   "metadata": {},
   "source": [
    "Then, we can see what movies the algorithm recommended us. As in the beginning I implied that I like romance, drama, comedy movies considering the rating that I gave, hopefully the algorithm will recommend me movies with the similar genre. "
   ]
  },
  {
   "cell_type": "code",
   "execution_count": 115,
   "metadata": {},
   "outputs": [
    {
     "name": "stdout",
     "output_type": "stream",
     "text": [
      "Top movie recommendations for you:\n",
      "No [1] : Harlem (1993)\n",
      "No [2] : Lady of Burlesque (1943)\n",
      "No [3] : Stonewall (1995)\n",
      "No [4] : Mixed Nuts (1994)\n",
      "No [5] : Clean Slate (1994)\n",
      "No [6] : Country Life (1994)\n",
      "No [7] : Whole Wide World, The (1996)\n",
      "No [8] : Drunks (1995)\n",
      "No [9] : I'm Not Rappaport (1996)\n",
      "No [10] : Man in the Iron Mask, The (1998)\n"
     ]
    }
   ],
   "source": [
    "# Print my movie recommendation.\n",
    "for i in range (10):\n",
    "    \n",
    "    idx = indices[i]\n",
    "    \n",
    "    if i == 0:\n",
    "        print('Top movie recommendations for you:')\n",
    "    print('No',[i+1],':',movieList[idx])"
   ]
  },
  {
   "cell_type": "markdown",
   "metadata": {},
   "source": [
    "And there we have it. However, the output can be different for each run since we initialize the $\\theta$ and $X$ parameters randomly. Moreover, it is necessary to fine tune the number of iterations, regularization parameter $\\lambda$, and the learning rate. Make sure that the number of iteration is enough for the algorithm to converge to give more accurate solutions. In addition, the more we rated the movie, the less the data sparsity will be and the better the algorithm can learn."
   ]
  },
  {
   "cell_type": "code",
   "execution_count": null,
   "metadata": {},
   "outputs": [],
   "source": []
  }
 ],
 "metadata": {
  "kernelspec": {
   "display_name": "Python 3",
   "language": "python",
   "name": "python3"
  },
  "language_info": {
   "codemirror_mode": {
    "name": "ipython",
    "version": 3
   },
   "file_extension": ".py",
   "mimetype": "text/x-python",
   "name": "python",
   "nbconvert_exporter": "python",
   "pygments_lexer": "ipython3",
   "version": "3.7.4"
  }
 },
 "nbformat": 4,
 "nbformat_minor": 4
}
