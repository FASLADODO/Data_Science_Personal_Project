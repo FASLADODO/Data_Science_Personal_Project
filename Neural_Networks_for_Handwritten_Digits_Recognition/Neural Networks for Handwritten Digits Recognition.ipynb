{
 "cells": [
  {
   "cell_type": "markdown",
   "metadata": {},
   "source": [
    "# Machine Learning - Neural Networks Algorithm for Handwritten Digits Recognition"
   ]
  },
  {
   "cell_type": "markdown",
   "metadata": {},
   "source": [
    "The purpose of this project is to build neural networks algorithm to recognize the handwritten digits. The data for this project was taken from Prof. Andrew Ng's machine learning class on Coursera, which is a file with M extension.\n",
    "\n",
    "The data consists of 5000 handwritten digits, each digits is represented by 20 x 20 pixel grayscale image. Let's visualize the data in order to know more about how the handwritten digits looks like. Before that, we need to import necessary libraries first."
   ]
  },
  {
   "cell_type": "code",
   "execution_count": 38,
   "metadata": {},
   "outputs": [],
   "source": [
    "import pandas as pd\n",
    "import numpy as np\n",
    "import matplotlib.pyplot as plt\n",
    "from scipy.io import loadmat"
   ]
  },
  {
   "cell_type": "markdown",
   "metadata": {},
   "source": [
    "Then, we need to read the data."
   ]
  },
  {
   "cell_type": "code",
   "execution_count": 39,
   "metadata": {},
   "outputs": [],
   "source": [
    "handwritingData = loadmat('Data.mat')\n",
    "\n",
    "xData = handwritingData['X']\n",
    "yData  =handwritingData['y']\n",
    "\n",
    "# Since the original data map digits \"0\" to \"10\", we need to map it back to \"0\"\n",
    "for i in range(len(yData)):\n",
    "    \n",
    "    if yData[i] == 10:\n",
    "        \n",
    "        yData[i] = 0"
   ]
  },
  {
   "cell_type": "markdown",
   "metadata": {},
   "source": [
    "## Visualizing the Number"
   ]
  },
  {
   "cell_type": "markdown",
   "metadata": {},
   "source": [
    "Now we have our feature sets and our response set. Next, we need to define a function to show the image of the number."
   ]
  },
  {
   "cell_type": "code",
   "execution_count": 55,
   "metadata": {},
   "outputs": [],
   "source": [
    "def visualizeTheNumber (xData, matrixRow):\n",
    "    \n",
    "    for row in range (len(matrixRow)):\n",
    "        \n",
    "        matrixData = xData[matrixRow[row],:]\n",
    "        matrixData = matrixData.reshape(20,20)\n",
    "        \n",
    "        plt.subplot(3,5,row+1)\n",
    "        plt.imshow(matrixData.transpose(), cmap='gray_r')\n",
    "    "
   ]
  },
  {
   "cell_type": "markdown",
   "metadata": {},
   "source": [
    "Then, create a variable containing a list of the number of rows in the feature set in which the number we want to visualize. Then, pass it to the function that we have just define."
   ]
  },
  {
   "cell_type": "code",
   "execution_count": 54,
   "metadata": {},
   "outputs": [
    {
     "data": {
      "image/png": "[encoded data removed]",
      "text/plain": [
       "<Figure size 432x288 with 15 Axes>"
      ]
     },
     "metadata": {
      "needs_background": "light"
     },
     "output_type": "display_data"
    }
   ],
   "source": [
    "m = [1, 600, 1000, 1620, 2000, 2640, 3102, 3700, 4600, 2344, 3211, 20, 4300, 2222, 1234]\n",
    "visualizeTheNumber(xData,m)"
   ]
  },
  {
   "cell_type": "markdown",
   "metadata": {},
   "source": [
    "And there we have it. The visualization of the handwritten digits from 0 to 9. Since we have 10 different kinds of digits, then it means that we will have 10 different classifications as the output. As the input itself, since each of the 20 x 20 pixels digit image is unrolled into 400 rows of 1D vector, then we will have 400 features as the input layer. Meanwhile we will have 25 units for the hidden layer, which brings us to the neural networks schema as follows:\n",
    "\n",
    "<img src=\"schema.png\" width=\"700\" height=\"300\">"
   ]
  },
  {
   "cell_type": "markdown",
   "metadata": {},
   "source": [
    "Based on the schema above, now we need to define the variables needed to describe the input layers and hidden layers."
   ]
  },
  {
   "cell_type": "code",
   "execution_count": 42,
   "metadata": {},
   "outputs": [],
   "source": [
    "intercept = np.ones((len(xData),1)) #for bias value.\n",
    "xDataNew = np.column_stack((intercept,xData)) #xData + bias\n",
    "\n",
    "inputLayerSize = len(xDataNew[0])\n",
    "hiddenLayerSize = 25\n",
    "noOfLabels = 10 # numbe rof output\n",
    "lambdaRegularization = 1 #for regularization parameter."
   ]
  },
  {
   "cell_type": "markdown",
   "metadata": {},
   "source": [
    "## Initialize Random Weight"
   ]
  },
  {
   "cell_type": "markdown",
   "metadata": {},
   "source": [
    "Before we start to delve into neural networks algorithm, first we need to randomly initialize the weight of our parameeters $\\theta$. Normally in other algorithm, we can set our initial $\\theta$ = 0, but for neural networks, setting our initial $\\theta$ to 0 would lead to a non-optimal learning process because we basically give each parameter the same weight. So, it is important to initialize the weight for symmetry breaking. \n",
    "\n",
    "So let's create a function to initialize the $\\theta$ value to small number."
   ]
  },
  {
   "cell_type": "code",
   "execution_count": 43,
   "metadata": {},
   "outputs": [],
   "source": [
    "def initializeWeight(outputVal, inputVal):\n",
    "    \n",
    "    epsilon = 0.12 #It can be adjusted according to your need\n",
    "    thetaWeight = np.zeros((outputVal, inputVal))\n",
    "    thetaWeight = np.random.rand(outputVal, inputVal) * 2*epsilon-epsilon\n",
    "    \n",
    "    return thetaWeight"
   ]
  },
  {
   "cell_type": "markdown",
   "metadata": {},
   "source": [
    "Then, we define our $\\theta$ by calling our function."
   ]
  },
  {
   "cell_type": "code",
   "execution_count": 44,
   "metadata": {},
   "outputs": [
    {
     "data": {
      "text/plain": [
       "array([-0.08832092,  0.01912664, -0.04255007,  0.08755889,  0.02458611])"
      ]
     },
     "execution_count": 44,
     "metadata": {},
     "output_type": "execute_result"
    }
   ],
   "source": [
    "Theta1 = initializeWeight(hiddenLayerSize,inputLayerSize) #Theta1 should have the size of num units in hidden layer x num of units in input layer. \n",
    "Theta2 = initializeWeight(noOfLabels,hiddenLayerSize+1) # Theta2 should have the size of num units in output layer x num of units in hidden layer.\n",
    "\n",
    "Theta1[0][0:5]"
   ]
  },
  {
   "cell_type": "markdown",
   "metadata": {},
   "source": [
    "And let's check the shape of our $\\theta$ value"
   ]
  },
  {
   "cell_type": "code",
   "execution_count": 45,
   "metadata": {},
   "outputs": [
    {
     "data": {
      "text/plain": [
       "((25, 401), (10, 26))"
      ]
     },
     "execution_count": 45,
     "metadata": {},
     "output_type": "execute_result"
    }
   ],
   "source": [
    "np.shape(Theta1), np.shape(Theta2)"
   ]
  },
  {
   "cell_type": "markdown",
   "metadata": {},
   "source": [
    "Looks pretty good and as expected so far. Now with this initial $\\theta$ value, we can start to define our neural networks algorithm from forward propagation to back propagation."
   ]
  },
  {
   "cell_type": "markdown",
   "metadata": {},
   "source": [
    "## Neural Networks Algorithm"
   ]
  },
  {
   "cell_type": "markdown",
   "metadata": {},
   "source": [
    "### Feedforward Propagation"
   ]
  },
  {
   "cell_type": "markdown",
   "metadata": {},
   "source": [
    "The first step for neural networks algorithm is the feedforward propagation. Basically the main point of feedforward propagation is to compute the hypothesis $h_\\theta(x^{(i)})$. The algorithm for feedforward propagation by looking at the neural networks model is given by:"
   ]
  },
  {
   "cell_type": "markdown",
   "metadata": {},
   "source": [
    "$$z^{(2)} = \\theta^{(1)}*a^{(1)}$$\n",
    "$$a^{(2)} = g(z^{(2)})$$\n",
    "\n",
    "and then we add $a_0^{(2)} = 0$ for bias value in the hidden layer.\n",
    "\n",
    "$$z^{(3)} = \\theta^{(2)}*a^{(2)}$$\n",
    "$$h_\\theta(x) = a^{(3)} = g(z^{(3)})$$"
   ]
  },
  {
   "cell_type": "markdown",
   "metadata": {},
   "source": [
    "where $z^{(2)}$ is basically the matrix multiplication of the feature value $x$ with the transpose of our initial value of $\\theta_1$. Meanwhile $a^{(2)}$ is our feature $x$ in the hidden layer after calculating the sigmoid function of $z^{(2)}$. The same applies for $z^{(3)}$ and $a^{(3)}$. In the end our, hypothesis function $h_\\theta(x)$ is equal to $a^{(3)}$.\n",
    "\n",
    "The formula to calculate the sigmoid function is given by:\n",
    "$$\\frac{1}{(1+exp(z))}$$\n",
    "\n",
    "So first, let's define a function to compute this sigmoid function.\n"
   ]
  },
  {
   "cell_type": "code",
   "execution_count": 46,
   "metadata": {},
   "outputs": [],
   "source": [
    "def sigmoidFunction(x):\n",
    "    \n",
    "    hypothesisFunct = 1/(1+np.exp(-x))\n",
    "    \n",
    "    return hypothesisFunct"
   ]
  },
  {
   "cell_type": "markdown",
   "metadata": {},
   "source": [
    "We are going to apply the feedforward algorithm together with regularized cost function and back propagation below. So, let's jump to computing the regularized cost function."
   ]
  },
  {
   "cell_type": "markdown",
   "metadata": {},
   "source": [
    "### Regularized Cost Function"
   ]
  },
  {
   "cell_type": "markdown",
   "metadata": {},
   "source": [
    "After obtaining the hypothesis function $h_\\theta(x)$ , then we can start to compute the regularized cost function $J$ with the following equation:\n",
    "$$J(\\theta) =\n",
    "\\frac{1}{m}\\sum_{i=1}^m\n",
    "\\sum_{k=1}^K \n",
    "\\left[ -y^{(i)}_k \\log((h_{\\theta}(x^{(i)})_k)- (1 -y^{(i)}_k) \\log(1-(h_{\\theta}(x^{(i)}))_k)  \\right]\n",
    "\\\\ \\qquad \n",
    "+\\frac{\\lambda}{2m} \\left[\\sum_{j=1}^{25} \n",
    "\\sum_{k=1}^{400} {\\left( \\theta_{j,k}^{(1)}\\right)^2}+\n",
    "\\sum_{j=1}^{10} \n",
    "\\sum_{k=1}^{25} {\\left( \\theta_{j,k}^{(2)}\\right)^2}\\right]$$"
   ]
  },
  {
   "cell_type": "markdown",
   "metadata": {},
   "source": [
    "where $m$ is the number of training sets, which is 5000 and $K$ is the number of possible outputs, which in our case is 10. Meanwhile, $y$ is the response variable and $\\lambda$ is the regularization parameter."
   ]
  },
  {
   "cell_type": "markdown",
   "metadata": {},
   "source": [
    "### Back Propagation"
   ]
  },
  {
   "cell_type": "markdown",
   "metadata": {},
   "source": [
    "Now it is time for us to compute the back propagation algorithm. The main focus of back propagation is to compute the error term $\\delta_j^{(l)}$ that measures how much error each input $j$ in layer $l$ contributes for the error of the output. Below is the formula for the back propagation algorithm by looking at the neural networks model.\n",
    "\n",
    "$$\\delta^{(3)} = (h_\\theta(x)) - y$$\n",
    "$$\\delta^{(2)} = (\\theta^{(2)})^T * \\delta^{(3)} . * g'(z^{(2)})$$\n",
    "\n",
    "where $g'(z^{(2)})$ is the gradient of the sigmoid function and can be computed by the formula:\n",
    "$$g'(z)=\\frac{d}{dz}g(z) = g(z)(1-g(z))$$\n",
    "\n",
    "Next, let's quickly define a function to compute the gradient of sigmoid function."
   ]
  },
  {
   "cell_type": "code",
   "execution_count": 47,
   "metadata": {},
   "outputs": [],
   "source": [
    "def sigmoidGradientFunction(x):\n",
    "    \n",
    "    hypothesisFunct = np.multiply((1/(1+np.exp(-x))),(1-(1/(1+np.exp(-x)))))\n",
    "    \n",
    "    return hypothesisFunct"
   ]
  },
  {
   "cell_type": "markdown",
   "metadata": {},
   "source": [
    "Then, we can calculate the capital delta, which is the gradient, as: $$\\Delta^{(l)} = \\delta^{(l+1)} * (a^{(l)})^T$$\n",
    "\n",
    "And then sum all of the $\\Delta^{(l)}$.\n",
    "\n",
    "Finally, we can get the partial derivative of our cost function $J$ with respect to $\\theta$ with the following formula.\n",
    "\n",
    "$$\\frac{\\partial}{\\partial \\theta}J(\\theta) = \\frac{1}{m} \\Delta + \\lambda\\theta$$"
   ]
  },
  {
   "cell_type": "markdown",
   "metadata": {},
   "source": [
    "Now, after writing all of the tedious equations, now we can implement it in the code. Let's define a function to calculate the cost function $J$ and $\\frac{\\partial}{\\partial \\theta}J(\\theta)$ with feedforward propagation, regularized cost function, and finally back propagation algorithm."
   ]
  },
  {
   "cell_type": "code",
   "execution_count": 48,
   "metadata": {},
   "outputs": [],
   "source": [
    "def computeCostFunctionNeuralNetworks(theta1, theta2, x, y, labels, experiments, lambdaReg):\n",
    "    \n",
    "    # Convert yData into a matrix -------------------------------------------------------\n",
    "    \n",
    "    yMatrix = np.zeros((len(y),labels))\n",
    "    I = np.identity(labels)\n",
    "    for i in range (len(y)):\n",
    "        yMatrix[i,:] = I[y[i],:]\n",
    "    \n",
    "    # Forward Propagation Algorithm-------------------------------------------------------\n",
    "    \n",
    "    z2 = np.matmul(x,theta1.transpose())\n",
    "    a2 = sigmoidFunction(z2)\n",
    "    \n",
    "    a2Bias = np.ones((len(a2),1))\n",
    "    a2PlusBias = np.column_stack((a2Bias,a2))\n",
    "    \n",
    "    z3 = np.matmul(a2PlusBias,theta2.transpose())\n",
    "    a3 = sigmoidFunction(z3)\n",
    "    \n",
    "    #Compute Unregularized Cost -----------------------------------------------\n",
    "    \n",
    "    frontEq = np.multiply(-yMatrix,np.log(a3))\n",
    "    tailEq = np.multiply(1-yMatrix,np.log(1-a3))\n",
    "    concatEq = frontEq-tailEq\n",
    "    \n",
    "    rowSummation = np.sum(concatEq,axis=1)\n",
    "    colSummation = np.sum(rowSummation)\n",
    "    \n",
    "    J = (1/experiments)*colSummation\n",
    "    \n",
    "    # Compute Regularized Cost -------------------------------------------------\n",
    "    \n",
    "    # Convert first column to 0 because bias coefficient shouldn't be regularized\n",
    "    \n",
    "    theta1[:,0] = 0\n",
    "    theta2[:,0] = 0\n",
    "    \n",
    "    theta1Reg = theta1**2\n",
    "    theta2Reg = theta2**2\n",
    "    \n",
    "    rowSummationTheta1 = np.sum(theta1Reg,axis=1)\n",
    "    colSummationTheta1 = np.sum(rowSummationTheta1)\n",
    "    \n",
    "    rowSummationTheta2 = np.sum(theta2Reg,axis=1)\n",
    "    colSummationTheta2 = np.sum(rowSummationTheta2)\n",
    "    \n",
    "    J = J+((lambdaReg/(2*experiments)))*(colSummationTheta1+colSummationTheta2)\n",
    "    \n",
    "    # Backpropagation Algorithm ----------------------------------------------------------\n",
    "    \n",
    "    d3 = a3-yMatrix\n",
    "    theta2WithoutBias = theta2[:,1:]\n",
    "    a2Derivative = sigmoidGradientFunction(z2)\n",
    "    d2 = np.multiply(np.matmul(d3,theta2WithoutBias),a2Derivative)\n",
    "    \n",
    "    delta1 = np.matmul(d2.transpose(),x)\n",
    "    delta2 = np.matmul(d3.transpose(),a2PlusBias)\n",
    "    \n",
    "    theta1Gradient = (1/experiments)*delta1\n",
    "    theta2Gradient = (1/experiments)*delta2\n",
    "    \n",
    "    scaledTheta1 = (lambdaReg/experiments)*theta1Gradient\n",
    "    scaledTheta2 = (lambdaReg/experiments)*theta2Gradient\n",
    "    \n",
    "    theta1Gradient = theta1Gradient+scaledTheta1\n",
    "    theta2Gradient = theta2Gradient+scaledTheta2\n",
    "    \n",
    "    return J, theta1Gradient, theta2Gradient"
   ]
  },
  {
   "cell_type": "markdown",
   "metadata": {},
   "source": [
    "Next, if we take a look at the final partial derivative term of $\\frac{\\partial}{\\partial \\theta}J(\\theta)$, it is an important term in order to obtain an updated value of our initial $\\theta$ value with gradient descent optimization. The algorithm to update $\\theta$ values with gradient descent optimization is as follows:\n",
    "\n",
    "$$\\theta_j:=\\theta_j-\\alpha \\frac{\\partial}{\\partial \\theta_j}J(\\theta)$$"
   ]
  },
  {
   "cell_type": "markdown",
   "metadata": {},
   "source": [
    "where $\\alpha$ is the learning rate that we need to define in advance. By iterating the computation of the cost function using gradient descent optimization and doing the feedforward and back propagation again and again, the $\\theta$ values will be updated and the cost function will be minimized.\n",
    "\n",
    "So, let's create a function to perform gradient descent algorithm."
   ]
  },
  {
   "cell_type": "code",
   "execution_count": 49,
   "metadata": {},
   "outputs": [],
   "source": [
    "def gradientDescentNeuralNetworks(x, y, theta1, theta2, alpha, noOfExperiments, iterations, labels, lambdaReg):\n",
    "    \n",
    "    JHistory = np.zeros((iterations,1))\n",
    "    \n",
    "    for i in range (iterations):\n",
    "        \n",
    "        JHistory[i], theta1Grad, theta2Grad = computeCostFunctionNeuralNetworks(theta1, theta2, x, y, labels, noOfExperiments, lambdaReg)\n",
    "        \n",
    "\n",
    "        theta1 = theta1 - (alpha*theta1Grad)\n",
    "        theta2 = theta2 - (alpha*theta2Grad)\n",
    "        \n",
    "    return JHistory, theta1, theta2"
   ]
  },
  {
   "cell_type": "markdown",
   "metadata": {},
   "source": [
    "Next, we also need to define some necessary variables in advance, such as how many iterations we want to run the gradient descent optimization and how big is the learning rate."
   ]
  },
  {
   "cell_type": "code",
   "execution_count": 60,
   "metadata": {},
   "outputs": [],
   "source": [
    "alpha = 3\n",
    "numOfIterations = 2000\n",
    "noOfTraining = len(yData)"
   ]
  },
  {
   "cell_type": "markdown",
   "metadata": {},
   "source": [
    "Then, we can run the neural netwroks algorithm now by calling the function we define above and pass all the necessary variables as the input arguments."
   ]
  },
  {
   "cell_type": "code",
   "execution_count": 61,
   "metadata": {},
   "outputs": [],
   "source": [
    "J, finTheta1, finTheta2 = gradientDescentNeuralNetworks(xDataNew, yData, Theta1, Theta2, alpha, noOfTraining, numOfIterations, noOfLabels, lambdaRegularization)"
   ]
  },
  {
   "cell_type": "code",
   "execution_count": 62,
   "metadata": {},
   "outputs": [
    {
     "data": {
      "text/plain": [
       "array([0.59317059])"
      ]
     },
     "execution_count": 62,
     "metadata": {},
     "output_type": "execute_result"
    }
   ],
   "source": [
    "J[-1]"
   ]
  },
  {
   "cell_type": "markdown",
   "metadata": {},
   "source": [
    "Now we can see the final cost function $J$ in the last iterations. Now we need to calculate the percentage of the accuracy of this neural networks model by comparing the result to our response variable $y$. In order to do that, we need to calculate the sigmoid function for our final values of $\\theta_1$ and then use the result to compute sigmoid function of $\\theta_2$, just like the feedforward propagation. \n",
    "\n",
    "The result of this computation is 4000 x 10 matrix, each column represent the probability of each row having particular label of output (digits 0-9). Finally, for each row, we need to return the column in which it has the highest probability value, so at the end we have 4000 rows of 1D vector, just like our response variable $y$. In order to do this, let's define a function."
   ]
  },
  {
   "cell_type": "code",
   "execution_count": 63,
   "metadata": {},
   "outputs": [],
   "source": [
    "def predictResultNeuralNetworks(theta1, theta2, x):\n",
    "    \n",
    "    probabilityList = np.zeros((len(x),1))\n",
    "    \n",
    "    h1 = sigmoidFunction(np.matmul(x,theta1.transpose()))\n",
    "    h1Bias = np.ones((len(x),1))\n",
    "    h1PlusBias = np.column_stack((h1Bias,h1))\n",
    "    h2 = sigmoidFunction(np.matmul(h1PlusBias,theta2.transpose()))\n",
    "    \n",
    "    probabilityList = np.argmax(h2, axis=1)\n",
    "    \n",
    "    return probabilityList"
   ]
  },
  {
   "cell_type": "markdown",
   "metadata": {},
   "source": [
    "Then, we call the function that we just define above."
   ]
  },
  {
   "cell_type": "code",
   "execution_count": 64,
   "metadata": {},
   "outputs": [],
   "source": [
    "accProbability = predictResultNeuralNetworks(finTheta1, finTheta2, xDataNew)"
   ]
  },
  {
   "cell_type": "markdown",
   "metadata": {},
   "source": [
    "The final step is to compare our 4000 rows of 1D vector with the response variable $y$ and check, how many rows that they match with each other. After that, we can calculate the final accuracy percentage of the neural networks model."
   ]
  },
  {
   "cell_type": "code",
   "execution_count": 65,
   "metadata": {},
   "outputs": [
    {
     "data": {
      "text/plain": [
       "97.8"
      ]
     },
     "execution_count": 65,
     "metadata": {},
     "output_type": "execute_result"
    }
   ],
   "source": [
    "accNew = np.asarray(accProbability.reshape((len(yData),1)))\n",
    "    \n",
    "modelAccuracy = np.mean((accNew == yData))*100\n",
    "modelAccuracy"
   ]
  },
  {
   "cell_type": "markdown",
   "metadata": {},
   "source": [
    "And there we have it! The final percentage of the neural networks algorithm."
   ]
  }
 ],
 "metadata": {
  "kernelspec": {
   "display_name": "Python 3",
   "language": "python",
   "name": "python3"
  },
  "language_info": {
   "codemirror_mode": {
    "name": "ipython",
    "version": 3
   },
   "file_extension": ".py",
   "mimetype": "text/x-python",
   "name": "python",
   "nbconvert_exporter": "python",
   "pygments_lexer": "ipython3",
   "version": "3.7.4"
  }
 },
 "nbformat": 4,
 "nbformat_minor": 4
}
